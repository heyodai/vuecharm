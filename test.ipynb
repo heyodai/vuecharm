{
 "cells": [
  {
   "cell_type": "code",
   "execution_count": 1,
   "metadata": {},
   "outputs": [
    {
     "name": "stdout",
     "output_type": "stream",
     "text": [
      "Processing /Users/odai/python-vue-poc/vuecharm\n",
      "  Installing build dependencies ... \u001b[?25ldone\n",
      "\u001b[?25h  Getting requirements to build wheel ... \u001b[?25ldone\n",
      "\u001b[?25h  Preparing metadata (pyproject.toml) ... \u001b[?25ldone\n",
      "\u001b[?25hBuilding wheels for collected packages: vuecharm\n",
      "  Building wheel for vuecharm (pyproject.toml) ... \u001b[?25ldone\n",
      "\u001b[?25h  Created wheel for vuecharm: filename=vuecharm-0.1-py3-none-any.whl size=1409 sha256=b29bd4e1d27bd9b975fcb6adb8f95fb8dc45e332181ecb8b8d45f5920fdec3a0\n",
      "  Stored in directory: /private/var/folders/d4/ggny_vpn0nv4f9ys1m85vyv80000gn/T/pip-ephem-wheel-cache-ixu4oj2u/wheels/33/4a/e3/f614a1a72f9e5ebbc37eff9a2b6983753caba726cf4bffe868\n",
      "Successfully built vuecharm\n",
      "Installing collected packages: vuecharm\n",
      "  Attempting uninstall: vuecharm\n",
      "    Found existing installation: vuecharm 0.1\n",
      "    Uninstalling vuecharm-0.1:\n",
      "      Successfully uninstalled vuecharm-0.1\n",
      "Successfully installed vuecharm-0.1\n"
     ]
    }
   ],
   "source": [
    "import os\n",
    "\n",
    "os.chdir('vuecharm')\n",
    "# os.system('npm run build')\n",
    "# !pip install .\n",
    "!pip install --upgrade .\n",
    "os.chdir('..')"
   ]
  },
  {
   "cell_type": "code",
   "execution_count": 2,
   "metadata": {},
   "outputs": [],
   "source": [
    "import vuecharm as vc"
   ]
  },
  {
   "cell_type": "code",
   "execution_count": 4,
   "metadata": {},
   "outputs": [
    {
     "name": "stderr",
     "output_type": "stream",
     "text": [
      "npm ERR! code ENOENT\n",
      "npm ERR! syscall open\n",
      "npm ERR! path /Users/odai/python-vue-poc/package.json\n",
      "npm ERR! errno -2\n",
      "npm ERR! enoent ENOENT: no such file or directory, open '/Users/odai/python-vue-poc/package.json'\n",
      "npm ERR! enoent This is related to npm not being able to find a file.\n",
      "npm ERR! enoent \n",
      "\n",
      "npm ERR! A complete log of this run can be found in: /Users/odai/.npm/_logs/2023-10-30T18_47_54_519Z-debug-0.log\n",
      "npm ERR! code ENOENT\n",
      "npm ERR! syscall open\n",
      "npm ERR! path /Users/odai/python-vue-poc/package.json\n",
      "npm ERR! errno -2\n",
      "npm ERR! enoent ENOENT: no such file or directory, open '/Users/odai/python-vue-poc/package.json'\n",
      "npm ERR! enoent This is related to npm not being able to find a file.\n",
      "npm ERR! enoent \n",
      "\n",
      "npm ERR! A complete log of this run can be found in: /Users/odai/.npm/_logs/2023-10-30T18_47_54_771Z-debug-0.log\n"
     ]
    }
   ],
   "source": [
    "app = vc.app()\n",
    "\n",
    "home_page = vc.new_page('Home', 'Home Page', 'home')\n",
    "about_page = vc.new_page('About', 'About Page', 'about')\n",
    "app.pages = [home_page, about_page]\n",
    "\n",
    "# print(app.build_routes())\n",
    "# app.transpile()\n",
    "app.compile()"
   ]
  }
 ],
 "metadata": {
  "kernelspec": {
   "display_name": "env",
   "language": "python",
   "name": "python3"
  },
  "language_info": {
   "codemirror_mode": {
    "name": "ipython",
    "version": 3
   },
   "file_extension": ".py",
   "mimetype": "text/x-python",
   "name": "python",
   "nbconvert_exporter": "python",
   "pygments_lexer": "ipython3",
   "version": "3.9.12"
  }
 },
 "nbformat": 4,
 "nbformat_minor": 2
}
