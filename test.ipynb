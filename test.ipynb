{
 "cells": [
  {
   "cell_type": "code",
   "execution_count": 1,
   "metadata": {},
   "outputs": [
    {
     "name": "stdout",
     "output_type": "stream",
     "text": [
      "Processing /Users/odai/python-vue-poc/vuecharm\n",
      "  Installing build dependencies ... \u001b[?25ldone\n",
      "\u001b[?25h  Getting requirements to build wheel ... \u001b[?25ldone\n",
      "\u001b[?25h  Preparing metadata (pyproject.toml) ... \u001b[?25ldone\n",
      "\u001b[?25hBuilding wheels for collected packages: vuecharm\n",
      "  Building wheel for vuecharm (pyproject.toml) ... \u001b[?25ldone\n",
      "\u001b[?25h  Created wheel for vuecharm: filename=vuecharm-0.1-py3-none-any.whl size=1412 sha256=4280bd97cbdf1c2f076cd4cb691856580684072877705cd465459c3ac39ff78c\n",
      "  Stored in directory: /private/var/folders/d4/ggny_vpn0nv4f9ys1m85vyv80000gn/T/pip-ephem-wheel-cache-nzg8dmcr/wheels/33/4a/e3/f614a1a72f9e5ebbc37eff9a2b6983753caba726cf4bffe868\n",
      "Successfully built vuecharm\n",
      "Installing collected packages: vuecharm\n",
      "  Attempting uninstall: vuecharm\n",
      "    Found existing installation: vuecharm 0.1\n",
      "    Uninstalling vuecharm-0.1:\n",
      "      Successfully uninstalled vuecharm-0.1\n",
      "Successfully installed vuecharm-0.1\n"
     ]
    }
   ],
   "source": [
    "import os\n",
    "\n",
    "os.chdir('vuecharm')\n",
    "# os.system('npm run build')\n",
    "# !pip install .\n",
    "!pip install --upgrade .\n",
    "os.chdir('..')"
   ]
  },
  {
   "cell_type": "code",
   "execution_count": 2,
   "metadata": {},
   "outputs": [],
   "source": [
    "import vuecharm as vc"
   ]
  },
  {
   "cell_type": "code",
   "execution_count": 3,
   "metadata": {},
   "outputs": [
    {
     "data": {
      "text/plain": [
       "'...'"
      ]
     },
     "execution_count": 3,
     "metadata": {},
     "output_type": "execute_result"
    }
   ],
   "source": [
    "vc.app()"
   ]
  }
 ],
 "metadata": {
  "kernelspec": {
   "display_name": "env",
   "language": "python",
   "name": "python3"
  },
  "language_info": {
   "codemirror_mode": {
    "name": "ipython",
    "version": 3
   },
   "file_extension": ".py",
   "mimetype": "text/x-python",
   "name": "python",
   "nbconvert_exporter": "python",
   "pygments_lexer": "ipython3",
   "version": "3.9.12"
  }
 },
 "nbformat": 4,
 "nbformat_minor": 2
}
