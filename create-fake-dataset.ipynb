{
 "cells": [
  {
   "cell_type": "code",
   "execution_count": 1,
   "metadata": {},
   "outputs": [],
   "source": [
    "from faker import Faker\n",
    "import sqlite3\n",
    "import pandas as pd\n",
    "import random"
   ]
  },
  {
   "cell_type": "code",
   "execution_count": 2,
   "metadata": {},
   "outputs": [],
   "source": [
    "fake = Faker()\n",
    "NUM_AUTHORS = 4"
   ]
  },
  {
   "cell_type": "code",
   "execution_count": 10,
   "metadata": {},
   "outputs": [],
   "source": [
    "# Create a new database\n",
    "conn = sqlite3.connect('fake_data.db')\n",
    "c = conn.cursor()"
   ]
  },
  {
   "cell_type": "code",
   "execution_count": 4,
   "metadata": {},
   "outputs": [
    {
     "data": {
      "text/plain": [
       "<sqlite3.Cursor at 0x14b29eea0>"
      ]
     },
     "execution_count": 4,
     "metadata": {},
     "output_type": "execute_result"
    }
   ],
   "source": [
    "# Create the blog post table\n",
    "c.execute('''CREATE TABLE posts(\n",
    "                id INTEGER PRIMARY KEY,          \n",
    "                author_id INTEGER,\n",
    "                published text, \n",
    "                title text, \n",
    "                body text)\n",
    "          ''')\n",
    "\n",
    "# Create the author table\n",
    "c.execute('''CREATE TABLE authors(\n",
    "                id INTEGER PRIMARY KEY, \n",
    "                name text, \n",
    "                email text)\n",
    "          ''')"
   ]
  },
  {
   "cell_type": "code",
   "execution_count": 5,
   "metadata": {},
   "outputs": [],
   "source": [
    "# Create our fake authors\n",
    "authors = []\n",
    "for i in range(NUM_AUTHORS):\n",
    "    authors.append(fake.name())"
   ]
  },
  {
   "cell_type": "code",
   "execution_count": 6,
   "metadata": {},
   "outputs": [],
   "source": [
    "# Write the authors to the database\n",
    "for i, author in enumerate(authors):\n",
    "    c.execute('''INSERT INTO authors (id, name, email) \n",
    "                  VALUES (?, ?, ?)''', (i, author, fake.email()))\n",
    "\n",
    "conn.commit()"
   ]
  },
  {
   "cell_type": "code",
   "execution_count": 7,
   "metadata": {},
   "outputs": [],
   "source": [
    "# Create the fake posts\n",
    "# Give each author between 5 and 10 posts\n",
    "# Randomize the date to be within the last year\n",
    "for i, author in enumerate(authors):\n",
    "    num_posts = random.randint(5, 10)\n",
    "\n",
    "    for j in range(num_posts):\n",
    "        published = fake.date_time_this_year()\n",
    "        title = fake.sentence()\n",
    "        body = fake.text()\n",
    "        \n",
    "        c.execute('''INSERT INTO posts (author_id, published, title, body) \n",
    "                      VALUES (?, ?, ?, ?)''', (i, published, title, body))\n",
    "        \n",
    "conn.commit()"
   ]
  },
  {
   "cell_type": "code",
   "execution_count": 8,
   "metadata": {},
   "outputs": [
    {
     "data": {
      "text/html": [
       "<div>\n",
       "<style scoped>\n",
       "    .dataframe tbody tr th:only-of-type {\n",
       "        vertical-align: middle;\n",
       "    }\n",
       "\n",
       "    .dataframe tbody tr th {\n",
       "        vertical-align: top;\n",
       "    }\n",
       "\n",
       "    .dataframe thead th {\n",
       "        text-align: right;\n",
       "    }\n",
       "</style>\n",
       "<table border=\"1\" class=\"dataframe\">\n",
       "  <thead>\n",
       "    <tr style=\"text-align: right;\">\n",
       "      <th></th>\n",
       "      <th>id</th>\n",
       "      <th>author_id</th>\n",
       "      <th>published</th>\n",
       "      <th>title</th>\n",
       "      <th>body</th>\n",
       "    </tr>\n",
       "  </thead>\n",
       "  <tbody>\n",
       "    <tr>\n",
       "      <th>0</th>\n",
       "      <td>1</td>\n",
       "      <td>0</td>\n",
       "      <td>2023-05-11 12:22:34</td>\n",
       "      <td>System expert teach somebody identify weight c...</td>\n",
       "      <td>Size four of Republican let. Participant learn...</td>\n",
       "    </tr>\n",
       "    <tr>\n",
       "      <th>1</th>\n",
       "      <td>2</td>\n",
       "      <td>0</td>\n",
       "      <td>2023-03-21 02:44:17</td>\n",
       "      <td>Fact prepare offer much.</td>\n",
       "      <td>Opportunity population well that. Six really t...</td>\n",
       "    </tr>\n",
       "    <tr>\n",
       "      <th>2</th>\n",
       "      <td>3</td>\n",
       "      <td>0</td>\n",
       "      <td>2023-06-05 03:33:20</td>\n",
       "      <td>Remain music value really often.</td>\n",
       "      <td>Teach word you deep increase.\\nSo drug here in...</td>\n",
       "    </tr>\n",
       "    <tr>\n",
       "      <th>3</th>\n",
       "      <td>4</td>\n",
       "      <td>0</td>\n",
       "      <td>2023-09-19 19:33:43</td>\n",
       "      <td>Sell you show professor.</td>\n",
       "      <td>Culture discuss ago sister will product rather...</td>\n",
       "    </tr>\n",
       "    <tr>\n",
       "      <th>4</th>\n",
       "      <td>5</td>\n",
       "      <td>0</td>\n",
       "      <td>2023-07-17 08:46:26</td>\n",
       "      <td>Difference policy foot as north car total attack.</td>\n",
       "      <td>Discuss yes community someone keep.\\nTen towar...</td>\n",
       "    </tr>\n",
       "  </tbody>\n",
       "</table>\n",
       "</div>"
      ],
      "text/plain": [
       "   id  author_id            published  \\\n",
       "0   1          0  2023-05-11 12:22:34   \n",
       "1   2          0  2023-03-21 02:44:17   \n",
       "2   3          0  2023-06-05 03:33:20   \n",
       "3   4          0  2023-09-19 19:33:43   \n",
       "4   5          0  2023-07-17 08:46:26   \n",
       "\n",
       "                                               title  \\\n",
       "0  System expert teach somebody identify weight c...   \n",
       "1                           Fact prepare offer much.   \n",
       "2                   Remain music value really often.   \n",
       "3                           Sell you show professor.   \n",
       "4  Difference policy foot as north car total attack.   \n",
       "\n",
       "                                                body  \n",
       "0  Size four of Republican let. Participant learn...  \n",
       "1  Opportunity population well that. Six really t...  \n",
       "2  Teach word you deep increase.\\nSo drug here in...  \n",
       "3  Culture discuss ago sister will product rather...  \n",
       "4  Discuss yes community someone keep.\\nTen towar...  "
      ]
     },
     "execution_count": 8,
     "metadata": {},
     "output_type": "execute_result"
    }
   ],
   "source": [
    "# Load up the table in pandas to check it out\n",
    "df = pd.read_sql_query(\"SELECT * FROM posts\", conn)\n",
    "df.head()"
   ]
  },
  {
   "cell_type": "code",
   "execution_count": 11,
   "metadata": {},
   "outputs": [
    {
     "data": {
      "text/html": [
       "<div>\n",
       "<style scoped>\n",
       "    .dataframe tbody tr th:only-of-type {\n",
       "        vertical-align: middle;\n",
       "    }\n",
       "\n",
       "    .dataframe tbody tr th {\n",
       "        vertical-align: top;\n",
       "    }\n",
       "\n",
       "    .dataframe thead th {\n",
       "        text-align: right;\n",
       "    }\n",
       "</style>\n",
       "<table border=\"1\" class=\"dataframe\">\n",
       "  <thead>\n",
       "    <tr style=\"text-align: right;\">\n",
       "      <th></th>\n",
       "      <th>id</th>\n",
       "      <th>name</th>\n",
       "      <th>email</th>\n",
       "    </tr>\n",
       "  </thead>\n",
       "  <tbody>\n",
       "    <tr>\n",
       "      <th>0</th>\n",
       "      <td>0</td>\n",
       "      <td>Tiffany Fields</td>\n",
       "      <td>courtneybarr@example.net</td>\n",
       "    </tr>\n",
       "    <tr>\n",
       "      <th>1</th>\n",
       "      <td>1</td>\n",
       "      <td>Christine Shaw</td>\n",
       "      <td>bakerkelly@example.net</td>\n",
       "    </tr>\n",
       "    <tr>\n",
       "      <th>2</th>\n",
       "      <td>2</td>\n",
       "      <td>Stacey Petersen</td>\n",
       "      <td>burkemarc@example.net</td>\n",
       "    </tr>\n",
       "    <tr>\n",
       "      <th>3</th>\n",
       "      <td>3</td>\n",
       "      <td>Cheryl Clark</td>\n",
       "      <td>scottsanders@example.com</td>\n",
       "    </tr>\n",
       "  </tbody>\n",
       "</table>\n",
       "</div>"
      ],
      "text/plain": [
       "   id             name                     email\n",
       "0   0   Tiffany Fields  courtneybarr@example.net\n",
       "1   1   Christine Shaw    bakerkelly@example.net\n",
       "2   2  Stacey Petersen     burkemarc@example.net\n",
       "3   3     Cheryl Clark  scottsanders@example.com"
      ]
     },
     "execution_count": 11,
     "metadata": {},
     "output_type": "execute_result"
    }
   ],
   "source": [
    "# and the authors table\n",
    "df = pd.read_sql_query(\"SELECT * FROM authors\", conn)\n",
    "df.head()"
   ]
  },
  {
   "cell_type": "code",
   "execution_count": 12,
   "metadata": {},
   "outputs": [],
   "source": [
    "# Close the connection\n",
    "conn.close()"
   ]
  }
 ],
 "metadata": {
  "kernelspec": {
   "display_name": "env",
   "language": "python",
   "name": "python3"
  },
  "language_info": {
   "codemirror_mode": {
    "name": "ipython",
    "version": 3
   },
   "file_extension": ".py",
   "mimetype": "text/x-python",
   "name": "python",
   "nbconvert_exporter": "python",
   "pygments_lexer": "ipython3",
   "version": "3.9.12"
  }
 },
 "nbformat": 4,
 "nbformat_minor": 2
}
