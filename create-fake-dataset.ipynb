{
 "cells": [
  {
   "cell_type": "code",
   "execution_count": 1,
   "metadata": {},
   "outputs": [],
   "source": [
    "from faker import Faker\n",
    "import sqlite3\n",
    "import pandas as pd\n",
    "import random\n",
    "import datetime"
   ]
  },
  {
   "cell_type": "code",
   "execution_count": null,
   "metadata": {},
   "outputs": [],
   "source": [
    "fake = Faker()\n",
    "NUM_AUTHORS = 4"
   ]
  },
  {
   "cell_type": "code",
   "execution_count": null,
   "metadata": {},
   "outputs": [],
   "source": [
    "# Create a new database\n",
    "conn = sqlite3.connect('fake_data.db')\n",
    "c = conn.cursor()"
   ]
  },
  {
   "cell_type": "code",
   "execution_count": null,
   "metadata": {},
   "outputs": [],
   "source": [
    "# Create the blog post table\n",
    "c.execute('''CREATE TABLE posts(\n",
    "                id INTEGER PRIMARY KEY,          \n",
    "                author_id INTEGER,\n",
    "                published text, \n",
    "                title text, \n",
    "                body text)\n",
    "          ''')\n",
    "\n",
    "# Create the author table\n",
    "c.execute('''CREATE TABLE authors(\n",
    "                id INTEGER PRIMARY KEY, \n",
    "                name text, \n",
    "                email text)\n",
    "          ''')"
   ]
  },
  {
   "cell_type": "code",
   "execution_count": null,
   "metadata": {},
   "outputs": [],
   "source": [
    "# Create our fake authors\n",
    "authors = []\n",
    "for i in range(NUM_AUTHORS):\n",
    "    authors.append(fake.name())"
   ]
  },
  {
   "cell_type": "code",
   "execution_count": null,
   "metadata": {},
   "outputs": [],
   "source": [
    "# Write the authors to the database\n",
    "for i, author in enumerate(authors):\n",
    "    c.execute('''INSERT INTO authors (id, name, email) \n",
    "                  VALUES (?, ?, ?)''', (i, author, fake.email()))\n",
    "\n",
    "conn.commit()"
   ]
  },
  {
   "cell_type": "code",
   "execution_count": null,
   "metadata": {},
   "outputs": [],
   "source": [
    "# Create the fake posts\n",
    "# Give each author between 5 and 10 posts\n",
    "# Randomize the date to be within the last year\n",
    "for i, author in enumerate(authors):\n",
    "    num_posts = random.randint(5, 10)\n",
    "\n",
    "    for j in range(num_posts):\n",
    "        published = fake.date_time_this_year()\n",
    "        title = fake.sentence()\n",
    "        body = fake.text()\n",
    "        \n",
    "        c.execute('''INSERT INTO posts (author_id, published, title, body) \n",
    "                      VALUES (?, ?, ?, ?)''', (i, published, title, body))\n",
    "        \n",
    "conn.commit()"
   ]
  },
  {
   "cell_type": "code",
   "execution_count": null,
   "metadata": {},
   "outputs": [],
   "source": [
    "# Load up the table in pandas to check it out\n",
    "df = pd.read_sql_query(\"SELECT * FROM posts\", conn)\n",
    "df.head()"
   ]
  },
  {
   "cell_type": "code",
   "execution_count": null,
   "metadata": {},
   "outputs": [],
   "source": [
    "# Close the connection\n",
    "conn.close()"
   ]
  }
 ],
 "metadata": {
  "kernelspec": {
   "display_name": "env",
   "language": "python",
   "name": "python3"
  },
  "language_info": {
   "codemirror_mode": {
    "name": "ipython",
    "version": 3
   },
   "file_extension": ".py",
   "mimetype": "text/x-python",
   "name": "python",
   "nbconvert_exporter": "python",
   "pygments_lexer": "ipython3",
   "version": "3.9.12"
  }
 },
 "nbformat": 4,
 "nbformat_minor": 2
}
